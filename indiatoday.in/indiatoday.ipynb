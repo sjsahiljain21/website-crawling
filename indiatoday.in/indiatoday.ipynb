{
 "metadata": {
  "language_info": {
   "codemirror_mode": {
    "name": "ipython",
    "version": 3
   },
   "file_extension": ".py",
   "mimetype": "text/x-python",
   "name": "python",
   "nbconvert_exporter": "python",
   "pygments_lexer": "ipython3",
   "version": "3.9.5"
  },
  "orig_nbformat": 4,
  "kernelspec": {
   "name": "python3",
   "display_name": "Python 3.9.5 64-bit ('crawl-email-address': conda)"
  },
  "interpreter": {
   "hash": "7567aa873c1d6aab2bc4e6e1e9db7e0093a99bed71f801f4a1b99670327b998f"
  }
 },
 "nbformat": 4,
 "nbformat_minor": 2,
 "cells": [
  {
   "cell_type": "code",
   "execution_count": 108,
   "metadata": {},
   "outputs": [],
   "source": [
    "from bs4 import BeautifulSoup\n",
    "import requests\n",
    "import pandas as pd\n",
    "import time\n",
    "from tqdm import tqdm"
   ]
  },
  {
   "cell_type": "code",
   "execution_count": 146,
   "metadata": {},
   "outputs": [],
   "source": [
    "url = 'https://www.indiatoday.in/cities/delhi/story/delhi-police-special-cell-350-kg-heroin-2500-crore-arrested-1826382-2021-07-10'\n",
    "response = requests.get(url)\n",
    "soup = BeautifulSoup(response.content, 'lxml')\n",
    "article = soup.find('article')"
   ]
  },
  {
   "cell_type": "code",
   "execution_count": 18,
   "metadata": {},
   "outputs": [],
   "source": []
  },
  {
   "cell_type": "code",
   "execution_count": 147,
   "metadata": {},
   "outputs": [],
   "source": [
    "a = article.find('div', class_=\"node node-story view-mode-full\")\n",
    "b = a.find('div', class_=\"story-left-section story-update\")\n",
    "c = b.find('div', class_=\"story-header-wrapper\")\n",
    "d = c.find('div', class_=\"byline\")"
   ]
  },
  {
   "cell_type": "code",
   "execution_count": null,
   "metadata": {},
   "outputs": [],
   "source": []
  },
  {
   "cell_type": "code",
   "execution_count": 148,
   "metadata": {},
   "outputs": [
    {
     "output_type": "execute_result",
     "data": {
      "text/plain": [
       "'Cities'"
      ]
     },
     "metadata": {},
     "execution_count": 148
    }
   ],
   "source": [
    "section = d.find('div', class_=\"profile-detail\")\n",
    "section.find_all('meta')[0]['content']"
   ]
  },
  {
   "cell_type": "code",
   "execution_count": 153,
   "metadata": {},
   "outputs": [
    {
     "output_type": "execute_result",
     "data": {
      "text/plain": [
       "'Tanseem Haider'"
      ]
     },
     "metadata": {},
     "execution_count": 153
    }
   ],
   "source": [
    "name = section.find(\"dl\", class_=\"profile-byline\").span.dt.a['title']"
   ]
  },
  {
   "cell_type": "code",
   "execution_count": 113,
   "metadata": {},
   "outputs": [
    {
     "output_type": "execute_result",
     "data": {
      "text/plain": [
       "'https://indiatoday.in/author/tanseemhaider'"
      ]
     },
     "metadata": {},
     "execution_count": 113
    }
   ],
   "source": [
    "author_link_1 = d.find('div', class_=\"profile-pic\").a\n",
    "author_link_2 = \"https://indiatoday.in\" + author_link_1['href']\n",
    "author_link_2"
   ]
  },
  {
   "cell_type": "code",
   "execution_count": 114,
   "metadata": {},
   "outputs": [],
   "source": [
    "response = requests.get(author_link_2)\n",
    "soup = BeautifulSoup(response.content, 'lxml')\n",
    "body = soup.find('body')"
   ]
  },
  {
   "cell_type": "code",
   "execution_count": 115,
   "metadata": {},
   "outputs": [],
   "source": [
    "a = body.find('div', class_ = \"anchor-left\")\n",
    "b = a.find('div', class_=\"anchauth-details\")"
   ]
  },
  {
   "cell_type": "code",
   "execution_count": 116,
   "metadata": {},
   "outputs": [
    {
     "output_type": "execute_result",
     "data": {
      "text/plain": [
       "'Deputy Editor'"
      ]
     },
     "metadata": {},
     "execution_count": 116
    }
   ],
   "source": [
    "b.find('div', class_=\"anchauth-designation\").text"
   ]
  },
  {
   "cell_type": "code",
   "execution_count": 119,
   "metadata": {},
   "outputs": [
    {
     "output_type": "execute_result",
     "data": {
      "text/plain": [
       "'Tanseem Haider'"
      ]
     },
     "metadata": {},
     "execution_count": 119
    }
   ],
   "source": [
    "b.h2.text"
   ]
  },
  {
   "cell_type": "code",
   "execution_count": 12,
   "metadata": {},
   "outputs": [
    {
     "output_type": "execute_result",
     "data": {
      "text/plain": [
       "'tanseem.haider@aajtak.com'"
      ]
     },
     "metadata": {},
     "execution_count": 12
    }
   ],
   "source": [
    "b.find('div', class_ = \"anchauth-email\").text"
   ]
  },
  {
   "cell_type": "code",
   "execution_count": 24,
   "metadata": {},
   "outputs": [
    {
     "output_type": "execute_result",
     "data": {
      "text/plain": [
       "[<a class=\"icon-pointer fbicon\" href=\"Tanseem Haider\" target=\"_blank\" title=\"share on facebook\"><i class=\"fa fa-facebook\"></i></a>,\n",
       " <a class=\"icon-pointer twicon\" href=\"https://twitter.com/TanseemHaider\" target=\"_blank\"><i class=\"fa fa-twitter\"></i></a>,\n",
       " <a class=\"icon-pointer insticon\" href=\"haidertanseem\" target=\"_blank\"><i class=\"fa fa-instagram\"></i></a>]"
      ]
     },
     "metadata": {},
     "execution_count": 24
    }
   ],
   "source": [
    "j = body.find('div', class_ = \"anchor-right\")\n",
    "k = j.find('div', class_=\"people-social-icon\")\n",
    "k.ul.find_all(\"a\")"
   ]
  },
  {
   "cell_type": "code",
   "execution_count": 25,
   "metadata": {},
   "outputs": [],
   "source": [
    "for x in k.ul.find_all(\"a\"):\n",
    "    if 'fbicon' in x['class']:\n",
    "        facebook_link = x['href']\n",
    "        break\n",
    "    else:\n",
    "        facebook_link = \"\""
   ]
  },
  {
   "cell_type": "code",
   "execution_count": 26,
   "metadata": {},
   "outputs": [],
   "source": [
    "for x in k.ul.find_all(\"a\"):\n",
    "    if 'twicon' in x['class']:\n",
    "        twitter_link = x['href']\n",
    "        break\n",
    "    else:\n",
    "        twitter_link = \"\""
   ]
  },
  {
   "cell_type": "code",
   "execution_count": 27,
   "metadata": {},
   "outputs": [],
   "source": [
    "for x in k.ul.find_all(\"a\"):\n",
    "    if 'insticon' in x['class']:\n",
    "        instagram_link = x['href']\n",
    "        break\n",
    "    else:\n",
    "        instagram_link = \"\""
   ]
  },
  {
   "cell_type": "code",
   "execution_count": 30,
   "metadata": {},
   "outputs": [
    {
     "output_type": "execute_result",
     "data": {
      "text/plain": [
       "'haidertanseem'"
      ]
     },
     "metadata": {},
     "execution_count": 30
    }
   ],
   "source": [
    "instagram_link"
   ]
  },
  {
   "cell_type": "code",
   "execution_count": 14,
   "metadata": {},
   "outputs": [
    {
     "output_type": "execute_result",
     "data": {
      "text/plain": [
       "''"
      ]
     },
     "metadata": {},
     "execution_count": 14
    }
   ],
   "source": [
    "l = j.find('div', class_=\"less-content\")\n",
    "l.text"
   ]
  },
  {
   "cell_type": "code",
   "execution_count": 163,
   "metadata": {},
   "outputs": [
    {
     "output_type": "execute_result",
     "data": {
      "text/plain": [
       "      Unnamed: 0                                                url  \\\n",
       "0              0  indiatoday.in/movies/celebrities/story/anushka...   \n",
       "1              1  indiatoday.in/business/story/sensex-nifty-leap...   \n",
       "2              2  indiatoday.in/movies/celebrities/story/aamir-k...   \n",
       "3              3  indiatoday.in/fact-check/story/fact-check-slee...   \n",
       "4              4  indiatoday.in/india/story/mha-led-team-busts-f...   \n",
       "...          ...                                                ...   \n",
       "4293        4293  indiatoday.in/movies/regional-cinema/story/tri...   \n",
       "4294        4294  indiatoday.in/cities/delhi/story/22-year-old-b...   \n",
       "4295        4295  indiatoday.in/india/story/loni-fir-twitter-nev...   \n",
       "4296        4296  indiatoday.in/india/video/pinjda-tod-activists...   \n",
       "4297        4297  indiatoday.in/india/story/italian-marines-case...   \n",
       "\n",
       "             domain                                           headline  \\\n",
       "0     indiatoday.in  Anushka Sharma's sister-in-law slams reports o...   \n",
       "1     indiatoday.in  Sensex, Nifty leap to new highs as Asian peers...   \n",
       "2     indiatoday.in  Aamir Khan recalls how ex-wife Reena Dutta lea...   \n",
       "3     indiatoday.in  Fact Check: You can sleep through this viral c...   \n",
       "4     indiatoday.in  MHA-led team busts fraud-to-phone racket runni...   \n",
       "...             ...                                                ...   \n",
       "4293  indiatoday.in  Trisha shows off her new haircut, asks 'how u ...   \n",
       "4294  indiatoday.in  22-year-old beats, robs woman of her mobile ph...   \n",
       "4295  indiatoday.in  Loni FIR: Twitter’s never-ending brush with In...   \n",
       "4296  indiatoday.in  Pinjda Tod activists’ release delayed | IndiaT...   \n",
       "4297  indiatoday.in  SC closes case against Italian marines who kil...   \n",
       "\n",
       "                                                   body lang   source  \\\n",
       "0     UPDATED: June 15, 2021 15:22 IST Virat Kohli's...   en  webhose   \n",
       "1     UPDATED: June 15, 2021 18:05 IST (Photo Credit...   en  webhose   \n",
       "2     UPDATED: June 15, 2021 15:23 IST Aamir Khan re...   en  webhose   \n",
       "3     June 15, 2021 UPDATED: June 15, 2021 18:41 IST...   en  webhose   \n",
       "4     During the operation, over 300 new mobile phon...   en  webhose   \n",
       "...                                                 ...  ...      ...   \n",
       "4293  On Tuesday (June 15), Trisha took to Instagram...   en  webhose   \n",
       "4294  June 16, 2021 UPDATED: June 16, 2021 12:23 IST...   en  webhose   \n",
       "4295  June 16, 2021 UPDATED: June 16, 2021 13:09 IST...   en  webhose   \n",
       "4296  A day after being granted bail by the Delhi Hi...   en  webhose   \n",
       "4297  The Supreme Court on Tuesday brought the curta...   en  webhose   \n",
       "\n",
       "      publication       influencer_name  influencer_id       date  quarter  \\\n",
       "0     India Today         Tanushree Roy            NaN 2021-06-15        2   \n",
       "1     India Today  Press Trust Of India       100589.0 2021-06-15        2   \n",
       "2     India Today  Samriddhi Srivastava            NaN 2021-06-15        2   \n",
       "3     India Today          Chayan Kundu         7446.0 2021-06-15        2   \n",
       "4     India Today  Kamaljit Kaur Sandhu         7626.0 2021-06-15        2   \n",
       "...           ...                   ...            ...        ...      ...   \n",
       "4293  India Today       Ramya Palisetty            NaN 2021-06-16        2   \n",
       "4294  India Today        Tanseem Haider          129.0 2021-06-16        2   \n",
       "4295  India Today      Prabhash K Dutta         7621.0 2021-06-16        2   \n",
       "4296  India Today                   NaN            NaN 2021-06-16        2   \n",
       "4297  India Today  Press Trust Of India       100589.0 2021-06-16        2   \n",
       "\n",
       "      month  year           keyword  \n",
       "0         6  2021  \"the\", \"is\", \"a\"  \n",
       "1         6  2021  \"the\", \"is\", \"a\"  \n",
       "2         6  2021  \"the\", \"is\", \"a\"  \n",
       "3         6  2021  \"the\", \"is\", \"a\"  \n",
       "4         6  2021  \"the\", \"is\", \"a\"  \n",
       "...     ...   ...               ...  \n",
       "4293      6  2021  \"the\", \"is\", \"a\"  \n",
       "4294      6  2021  \"the\", \"is\", \"a\"  \n",
       "4295      6  2021  \"the\", \"is\", \"a\"  \n",
       "4296      6  2021  \"the\", \"is\", \"a\"  \n",
       "4297      6  2021  \"the\", \"is\", \"a\"  \n",
       "\n",
       "[8738 rows x 15 columns]"
      ],
      "text/html": "<div>\n<style scoped>\n    .dataframe tbody tr th:only-of-type {\n        vertical-align: middle;\n    }\n\n    .dataframe tbody tr th {\n        vertical-align: top;\n    }\n\n    .dataframe thead th {\n        text-align: right;\n    }\n</style>\n<table border=\"1\" class=\"dataframe\">\n  <thead>\n    <tr style=\"text-align: right;\">\n      <th></th>\n      <th>Unnamed: 0</th>\n      <th>url</th>\n      <th>domain</th>\n      <th>headline</th>\n      <th>body</th>\n      <th>lang</th>\n      <th>source</th>\n      <th>publication</th>\n      <th>influencer_name</th>\n      <th>influencer_id</th>\n      <th>date</th>\n      <th>quarter</th>\n      <th>month</th>\n      <th>year</th>\n      <th>keyword</th>\n    </tr>\n  </thead>\n  <tbody>\n    <tr>\n      <th>0</th>\n      <td>0</td>\n      <td>indiatoday.in/movies/celebrities/story/anushka...</td>\n      <td>indiatoday.in</td>\n      <td>Anushka Sharma's sister-in-law slams reports o...</td>\n      <td>UPDATED: June 15, 2021 15:22 IST Virat Kohli's...</td>\n      <td>en</td>\n      <td>webhose</td>\n      <td>India Today</td>\n      <td>Tanushree Roy</td>\n      <td>NaN</td>\n      <td>2021-06-15</td>\n      <td>2</td>\n      <td>6</td>\n      <td>2021</td>\n      <td>\"the\", \"is\", \"a\"</td>\n    </tr>\n    <tr>\n      <th>1</th>\n      <td>1</td>\n      <td>indiatoday.in/business/story/sensex-nifty-leap...</td>\n      <td>indiatoday.in</td>\n      <td>Sensex, Nifty leap to new highs as Asian peers...</td>\n      <td>UPDATED: June 15, 2021 18:05 IST (Photo Credit...</td>\n      <td>en</td>\n      <td>webhose</td>\n      <td>India Today</td>\n      <td>Press Trust Of India</td>\n      <td>100589.0</td>\n      <td>2021-06-15</td>\n      <td>2</td>\n      <td>6</td>\n      <td>2021</td>\n      <td>\"the\", \"is\", \"a\"</td>\n    </tr>\n    <tr>\n      <th>2</th>\n      <td>2</td>\n      <td>indiatoday.in/movies/celebrities/story/aamir-k...</td>\n      <td>indiatoday.in</td>\n      <td>Aamir Khan recalls how ex-wife Reena Dutta lea...</td>\n      <td>UPDATED: June 15, 2021 15:23 IST Aamir Khan re...</td>\n      <td>en</td>\n      <td>webhose</td>\n      <td>India Today</td>\n      <td>Samriddhi Srivastava</td>\n      <td>NaN</td>\n      <td>2021-06-15</td>\n      <td>2</td>\n      <td>6</td>\n      <td>2021</td>\n      <td>\"the\", \"is\", \"a\"</td>\n    </tr>\n    <tr>\n      <th>3</th>\n      <td>3</td>\n      <td>indiatoday.in/fact-check/story/fact-check-slee...</td>\n      <td>indiatoday.in</td>\n      <td>Fact Check: You can sleep through this viral c...</td>\n      <td>June 15, 2021 UPDATED: June 15, 2021 18:41 IST...</td>\n      <td>en</td>\n      <td>webhose</td>\n      <td>India Today</td>\n      <td>Chayan Kundu</td>\n      <td>7446.0</td>\n      <td>2021-06-15</td>\n      <td>2</td>\n      <td>6</td>\n      <td>2021</td>\n      <td>\"the\", \"is\", \"a\"</td>\n    </tr>\n    <tr>\n      <th>4</th>\n      <td>4</td>\n      <td>indiatoday.in/india/story/mha-led-team-busts-f...</td>\n      <td>indiatoday.in</td>\n      <td>MHA-led team busts fraud-to-phone racket runni...</td>\n      <td>During the operation, over 300 new mobile phon...</td>\n      <td>en</td>\n      <td>webhose</td>\n      <td>India Today</td>\n      <td>Kamaljit Kaur Sandhu</td>\n      <td>7626.0</td>\n      <td>2021-06-15</td>\n      <td>2</td>\n      <td>6</td>\n      <td>2021</td>\n      <td>\"the\", \"is\", \"a\"</td>\n    </tr>\n    <tr>\n      <th>...</th>\n      <td>...</td>\n      <td>...</td>\n      <td>...</td>\n      <td>...</td>\n      <td>...</td>\n      <td>...</td>\n      <td>...</td>\n      <td>...</td>\n      <td>...</td>\n      <td>...</td>\n      <td>...</td>\n      <td>...</td>\n      <td>...</td>\n      <td>...</td>\n      <td>...</td>\n    </tr>\n    <tr>\n      <th>4293</th>\n      <td>4293</td>\n      <td>indiatoday.in/movies/regional-cinema/story/tri...</td>\n      <td>indiatoday.in</td>\n      <td>Trisha shows off her new haircut, asks 'how u ...</td>\n      <td>On Tuesday (June 15), Trisha took to Instagram...</td>\n      <td>en</td>\n      <td>webhose</td>\n      <td>India Today</td>\n      <td>Ramya Palisetty</td>\n      <td>NaN</td>\n      <td>2021-06-16</td>\n      <td>2</td>\n      <td>6</td>\n      <td>2021</td>\n      <td>\"the\", \"is\", \"a\"</td>\n    </tr>\n    <tr>\n      <th>4294</th>\n      <td>4294</td>\n      <td>indiatoday.in/cities/delhi/story/22-year-old-b...</td>\n      <td>indiatoday.in</td>\n      <td>22-year-old beats, robs woman of her mobile ph...</td>\n      <td>June 16, 2021 UPDATED: June 16, 2021 12:23 IST...</td>\n      <td>en</td>\n      <td>webhose</td>\n      <td>India Today</td>\n      <td>Tanseem Haider</td>\n      <td>129.0</td>\n      <td>2021-06-16</td>\n      <td>2</td>\n      <td>6</td>\n      <td>2021</td>\n      <td>\"the\", \"is\", \"a\"</td>\n    </tr>\n    <tr>\n      <th>4295</th>\n      <td>4295</td>\n      <td>indiatoday.in/india/story/loni-fir-twitter-nev...</td>\n      <td>indiatoday.in</td>\n      <td>Loni FIR: Twitter’s never-ending brush with In...</td>\n      <td>June 16, 2021 UPDATED: June 16, 2021 13:09 IST...</td>\n      <td>en</td>\n      <td>webhose</td>\n      <td>India Today</td>\n      <td>Prabhash K Dutta</td>\n      <td>7621.0</td>\n      <td>2021-06-16</td>\n      <td>2</td>\n      <td>6</td>\n      <td>2021</td>\n      <td>\"the\", \"is\", \"a\"</td>\n    </tr>\n    <tr>\n      <th>4296</th>\n      <td>4296</td>\n      <td>indiatoday.in/india/video/pinjda-tod-activists...</td>\n      <td>indiatoday.in</td>\n      <td>Pinjda Tod activists’ release delayed | IndiaT...</td>\n      <td>A day after being granted bail by the Delhi Hi...</td>\n      <td>en</td>\n      <td>webhose</td>\n      <td>India Today</td>\n      <td>NaN</td>\n      <td>NaN</td>\n      <td>2021-06-16</td>\n      <td>2</td>\n      <td>6</td>\n      <td>2021</td>\n      <td>\"the\", \"is\", \"a\"</td>\n    </tr>\n    <tr>\n      <th>4297</th>\n      <td>4297</td>\n      <td>indiatoday.in/india/story/italian-marines-case...</td>\n      <td>indiatoday.in</td>\n      <td>SC closes case against Italian marines who kil...</td>\n      <td>The Supreme Court on Tuesday brought the curta...</td>\n      <td>en</td>\n      <td>webhose</td>\n      <td>India Today</td>\n      <td>Press Trust Of India</td>\n      <td>100589.0</td>\n      <td>2021-06-16</td>\n      <td>2</td>\n      <td>6</td>\n      <td>2021</td>\n      <td>\"the\", \"is\", \"a\"</td>\n    </tr>\n  </tbody>\n</table>\n<p>8738 rows × 15 columns</p>\n</div>"
     },
     "metadata": {},
     "execution_count": 163
    }
   ],
   "source": [
    "import pandas as pd\n",
    "indiatoday_1 = pd.read_excel(\"indiatoday_1.xlsx\")\n",
    "indiatoday_2 = pd.read_excel(\"indiatoday_2.xlsx\")\n",
    "indiatoday = pd.concat([indiatoday_1, indiatoday_2])\n",
    "indiatoday"
   ]
  },
  {
   "cell_type": "code",
   "execution_count": 48,
   "metadata": {},
   "outputs": [],
   "source": []
  },
  {
   "cell_type": "code",
   "execution_count": 164,
   "metadata": {},
   "outputs": [],
   "source": [
    "url_list = list(indiatoday['url'])\n",
    "# influencer_name_list = list(indiatoday['influencer_name'])\n",
    "influencer_id_list = list(indiatoday['influencer_id'])"
   ]
  },
  {
   "cell_type": "code",
   "execution_count": 175,
   "metadata": {},
   "outputs": [
    {
     "output_type": "stream",
     "name": "stderr",
     "text": [
      "100%|██████████| 8738/8738 [2:43:55<00:00,  1.13s/it]\n"
     ]
    }
   ],
   "source": [
    "from bs4 import BeautifulSoup\n",
    "import requests\n",
    "import pandas as pd\n",
    "import time\n",
    "from tqdm import tqdm\n",
    "\n",
    "all_author_links = []\n",
    "all_author_designation = []\n",
    "all_mail_id = []\n",
    "all_twitter_link = []\n",
    "all_facebook_link = []\n",
    "all_author_bio = []\n",
    "all_section = []\n",
    "all_instagram_link = []\n",
    "all_influencer_name = []\n",
    "all_influencer_id = []\n",
    "all_names = []\n",
    "\n",
    "for m,n in tqdm(zip(url_list, influencer_id_list), total=len(url_list)):\n",
    "\n",
    "    time.sleep(0.2)\n",
    "\n",
    "    url = 'https://' + m\n",
    "\n",
    "    try:\n",
    "        response = requests.get(url)\n",
    "    except (requests.exceptions.MissingSchema, requests.exceptions.ConnectionError):\n",
    "        continue\n",
    "\n",
    "    soup = BeautifulSoup(response.content, 'lxml')\n",
    "    article = soup.find('article')\n",
    "    try:\n",
    "        a = article.find('div', class_=\"node node-story view-mode-full\")\n",
    "        b = a.find('div', class_=\"story-left-section story-update\")\n",
    "        c = b.find('div', class_=\"story-header-wrapper\")\n",
    "        d = c.find('div', class_=\"byline\")\n",
    "        author_link_1 = d.find('div', class_=\"profile-pic\").a\n",
    "        author_link_2 = \"https://indiatoday.in\" + author_link_1['href']        \n",
    "    except:\n",
    "        continue\n",
    "\n",
    "    # all_influencer_name.append(n)\n",
    "    all_influencer_id.append(n)\n",
    "\n",
    "    section_1 = d.find('div', class_=\"profile-detail\")\n",
    "    section_2 = section_1.find_all('meta')[0]['content']\n",
    "    all_section.append(section_2)\n",
    "\n",
    "    name = section_1.find(\"dl\", class_=\"profile-byline\").span.dt.a['title']\n",
    "    all_names.append(name)\n",
    "\n",
    "\n",
    "\n",
    "    if author_link_2 not in all_author_links:\n",
    "\n",
    "        all_author_links.append(author_link_2)\n",
    "\n",
    "        response = requests.get(author_link_2)\n",
    "        soup = BeautifulSoup(response.content, 'lxml')\n",
    "        body = soup.find('body')\n",
    "\n",
    "        e = body.find('div', class_ = \"anchor-left\")\n",
    "        f = e.find('div', class_=\"anchauth-details\")\n",
    "\n",
    "        # try:\n",
    "        # name = f.h2.text\n",
    "    # except:\n",
    "        # name = \"\"\n",
    "\n",
    "        # all_names.append(name)\n",
    "\n",
    "        try:\n",
    "            designation = f.find('div', class_=\"anchauth-designation\").text\n",
    "        except:\n",
    "            designation = \"\"\n",
    "\n",
    "        all_author_designation.append(designation)\n",
    "\n",
    "        try:\n",
    "            email_id = f.find('div', class_ = \"anchauth-email\").text\n",
    "        except:\n",
    "            email_id = \"\"\n",
    "        \n",
    "        all_mail_id.append(email_id)\n",
    "\n",
    "\n",
    "        j = body.find('div', class_ = \"anchor-right\")\n",
    "        # print(j)\n",
    "        k = j.find('div', class_=\"people-social-icon\")\n",
    "        # print(author_link_2)\n",
    "        if k != None:\n",
    "                \n",
    "            for x in k.ul.find_all(\"a\"):\n",
    "                if 'fbicon' in x['class']:\n",
    "                    facebook_link = x['href']\n",
    "                    break\n",
    "                else:\n",
    "                    facebook_link = \"\"\n",
    "            \n",
    "            all_facebook_link.append(facebook_link)\n",
    "\n",
    "            for x in k.ul.find_all(\"a\"):\n",
    "                if 'twicon' in x['class']:\n",
    "                    twitter_link = x['href']\n",
    "                    break\n",
    "                else:\n",
    "                    twitter_link = \"\"\n",
    "\n",
    "            all_twitter_link.append(twitter_link)\n",
    "\n",
    "            for x in k.ul.find_all(\"a\"):\n",
    "                if 'insticon' in x['class']:\n",
    "                    instagram_link = x['href']\n",
    "                    break\n",
    "                else:\n",
    "                    instagram_link = \"\"\n",
    "\n",
    "            all_instagram_link.append(instagram_link)\n",
    "        \n",
    "        else:\n",
    "            all_facebook_link.append(\"\")\n",
    "            all_twitter_link.append(\"\")\n",
    "            all_instagram_link.append(\"\")\n",
    "\n",
    "\n",
    "        author_bio_1 = j.find('div', class_=\"less-content\")\n",
    "        author_bio_2 = author_bio_1.text\n",
    "\n",
    "        all_author_bio.append(author_bio_2)\n",
    "\n",
    "    else:\n",
    "\n",
    "        all_author_links.append(\"\")\n",
    "        all_author_designation.append(\"\")\n",
    "        all_mail_id.append(\"\")\n",
    "        all_twitter_link.append(\"\")\n",
    "        # all_linkedid_link.append(\"\")\n",
    "        all_facebook_link.append(\"\")\n",
    "        all_instagram_link.append(\"\")\n",
    "        all_author_bio.append(\"\")   \n",
    "        # all_names.append(\"\")"
   ]
  },
  {
   "cell_type": "code",
   "execution_count": null,
   "metadata": {},
   "outputs": [],
   "source": []
  },
  {
   "cell_type": "code",
   "execution_count": 51,
   "metadata": {},
   "outputs": [],
   "source": [
    "# print(section_2)\n",
    "# print(author_link_2)\n",
    "# print(designation)\n",
    "# print(email_id)\n",
    "# print(facebook_link)\n",
    "# print(twitter_link)\n",
    "# print(instagram_link)\n",
    "# print(author_bio_2)"
   ]
  },
  {
   "cell_type": "code",
   "execution_count": 138,
   "metadata": {},
   "outputs": [],
   "source": [
    "# df"
   ]
  },
  {
   "cell_type": "code",
   "execution_count": 176,
   "metadata": {},
   "outputs": [],
   "source": [
    "df = pd.DataFrame({'author_link' : all_author_links, 'influencer_name': all_names, 'influencer_id': all_influencer_id,  'designation' : all_author_designation, 'mail_id' : all_mail_id, 'twitter_link' : all_twitter_link, 'facebook_link' : all_facebook_link, 'instagram_link' : all_instagram_link, 'section' : all_section, 'author_bio' : all_author_bio})\n",
    "\n",
    "# df"
   ]
  },
  {
   "cell_type": "code",
   "execution_count": 177,
   "metadata": {},
   "outputs": [
    {
     "output_type": "execute_result",
     "data": {
      "text/plain": [
       "Empty DataFrame\n",
       "Columns: [author_link, influencer_name, influencer_id, designation, mail_id, twitter_link, facebook_link, instagram_link, section, author_bio]\n",
       "Index: []"
      ],
      "text/html": "<div>\n<style scoped>\n    .dataframe tbody tr th:only-of-type {\n        vertical-align: middle;\n    }\n\n    .dataframe tbody tr th {\n        vertical-align: top;\n    }\n\n    .dataframe thead th {\n        text-align: right;\n    }\n</style>\n<table border=\"1\" class=\"dataframe\">\n  <thead>\n    <tr style=\"text-align: right;\">\n      <th></th>\n      <th>author_link</th>\n      <th>influencer_name</th>\n      <th>influencer_id</th>\n      <th>designation</th>\n      <th>mail_id</th>\n      <th>twitter_link</th>\n      <th>facebook_link</th>\n      <th>instagram_link</th>\n      <th>section</th>\n      <th>author_bio</th>\n    </tr>\n  </thead>\n  <tbody>\n  </tbody>\n</table>\n</div>"
     },
     "metadata": {},
     "execution_count": 177
    }
   ],
   "source": [
    "df[df['influencer_name'].isna() == True]"
   ]
  },
  {
   "cell_type": "code",
   "execution_count": 178,
   "metadata": {},
   "outputs": [
    {
     "output_type": "execute_result",
     "data": {
      "text/plain": [
       "     influencer_name  influencer_id                                section  \\\n",
       "0      Aakash Sharma            NaN                               [Cities]   \n",
       "1        Aavish Kant            NaN                 [Coronavirus Outbreak]   \n",
       "2          Abhik Das            NaN                                 [Auto]   \n",
       "3     Abhishek Anand          725.0  [Cities, India, Coronavirus Outbreak]   \n",
       "4     Abhishek Anand            NaN                        [India, Cities]   \n",
       "..               ...            ...                                    ...   \n",
       "285           Vidya        100589.0                 [Coronavirus Outbreak]   \n",
       "286           Vidya             NaN                                  [Law]   \n",
       "287  Vivek Rajagopal            NaN                         [Crime, India]   \n",
       "288     Yasmin Ahmed       144813.0                           [Technology]   \n",
       "289     Yasmin Ahmed            NaN                           [Technology]   \n",
       "\n",
       "                                         section_count  total_articles  \n",
       "0                                        {'Cities': 1}               1  \n",
       "1                          {'Coronavirus Outbreak': 1}               1  \n",
       "2                                          {'Auto': 2}               2  \n",
       "3    {'India': 1, 'Cities': 1, 'Coronavirus Outbrea...               3  \n",
       "4                            {'Cities': 2, 'India': 1}               3  \n",
       "..                                                 ...             ...  \n",
       "285                        {'Coronavirus Outbreak': 1}               1  \n",
       "286                                         {'Law': 1}               1  \n",
       "287                           {'Crime': 1, 'India': 1}               2  \n",
       "288                                  {'Technology': 1}               1  \n",
       "289                                  {'Technology': 2}               2  \n",
       "\n",
       "[290 rows x 5 columns]"
      ],
      "text/html": "<div>\n<style scoped>\n    .dataframe tbody tr th:only-of-type {\n        vertical-align: middle;\n    }\n\n    .dataframe tbody tr th {\n        vertical-align: top;\n    }\n\n    .dataframe thead th {\n        text-align: right;\n    }\n</style>\n<table border=\"1\" class=\"dataframe\">\n  <thead>\n    <tr style=\"text-align: right;\">\n      <th></th>\n      <th>influencer_name</th>\n      <th>influencer_id</th>\n      <th>section</th>\n      <th>section_count</th>\n      <th>total_articles</th>\n    </tr>\n  </thead>\n  <tbody>\n    <tr>\n      <th>0</th>\n      <td>Aakash Sharma</td>\n      <td>NaN</td>\n      <td>[Cities]</td>\n      <td>{'Cities': 1}</td>\n      <td>1</td>\n    </tr>\n    <tr>\n      <th>1</th>\n      <td>Aavish Kant</td>\n      <td>NaN</td>\n      <td>[Coronavirus Outbreak]</td>\n      <td>{'Coronavirus Outbreak': 1}</td>\n      <td>1</td>\n    </tr>\n    <tr>\n      <th>2</th>\n      <td>Abhik Das</td>\n      <td>NaN</td>\n      <td>[Auto]</td>\n      <td>{'Auto': 2}</td>\n      <td>2</td>\n    </tr>\n    <tr>\n      <th>3</th>\n      <td>Abhishek Anand</td>\n      <td>725.0</td>\n      <td>[Cities, India, Coronavirus Outbreak]</td>\n      <td>{'India': 1, 'Cities': 1, 'Coronavirus Outbrea...</td>\n      <td>3</td>\n    </tr>\n    <tr>\n      <th>4</th>\n      <td>Abhishek Anand</td>\n      <td>NaN</td>\n      <td>[India, Cities]</td>\n      <td>{'Cities': 2, 'India': 1}</td>\n      <td>3</td>\n    </tr>\n    <tr>\n      <th>...</th>\n      <td>...</td>\n      <td>...</td>\n      <td>...</td>\n      <td>...</td>\n      <td>...</td>\n    </tr>\n    <tr>\n      <th>285</th>\n      <td>Vidya</td>\n      <td>100589.0</td>\n      <td>[Coronavirus Outbreak]</td>\n      <td>{'Coronavirus Outbreak': 1}</td>\n      <td>1</td>\n    </tr>\n    <tr>\n      <th>286</th>\n      <td>Vidya</td>\n      <td>NaN</td>\n      <td>[Law]</td>\n      <td>{'Law': 1}</td>\n      <td>1</td>\n    </tr>\n    <tr>\n      <th>287</th>\n      <td>Vivek Rajagopal</td>\n      <td>NaN</td>\n      <td>[Crime, India]</td>\n      <td>{'Crime': 1, 'India': 1}</td>\n      <td>2</td>\n    </tr>\n    <tr>\n      <th>288</th>\n      <td>Yasmin Ahmed</td>\n      <td>144813.0</td>\n      <td>[Technology]</td>\n      <td>{'Technology': 1}</td>\n      <td>1</td>\n    </tr>\n    <tr>\n      <th>289</th>\n      <td>Yasmin Ahmed</td>\n      <td>NaN</td>\n      <td>[Technology]</td>\n      <td>{'Technology': 2}</td>\n      <td>2</td>\n    </tr>\n  </tbody>\n</table>\n<p>290 rows × 5 columns</p>\n</div>"
     },
     "metadata": {},
     "execution_count": 178
    }
   ],
   "source": [
    "from collections import Counter\n",
    "\n",
    "df_drop_duplicates = df.drop_duplicates().reset_index(drop = True)\n",
    "journo_info = df_drop_duplicates.groupby([\"influencer_name\", \"influencer_id\"], dropna=False)[\"section\"].apply(list).reset_index()\n",
    "journo_info['section_count'] = journo_info['section'].apply(lambda x: dict(Counter(x)))\n",
    "journo_info['section'] = journo_info['section'].apply(lambda x: list(set(x)))\n",
    "journo_info['total_articles'] = journo_info['section_count'].apply(lambda x: sum(list(x.values())))\n",
    "journo_info"
   ]
  },
  {
   "cell_type": "code",
   "execution_count": 179,
   "metadata": {},
   "outputs": [],
   "source": [
    "df_2 = pd.merge(df_drop_duplicates[['author_link', 'influencer_name', 'influencer_id', 'designation', 'mail_id', 'twitter_link', 'facebook_link', 'instagram_link', 'author_bio']], journo_info, on = ['influencer_name', 'influencer_id'], how = 'left')"
   ]
  },
  {
   "cell_type": "code",
   "execution_count": 180,
   "metadata": {},
   "outputs": [
    {
     "output_type": "execute_result",
     "data": {
      "text/plain": [
       "                                           author_link       influencer_name  \\\n",
       "0           https://indiatoday.in/author/tanushree-roy         Tanushree Roy   \n",
       "1                     https://indiatoday.in/author/pti  Press Trust of India   \n",
       "2    https://indiatoday.in/author/samriddhi-srivastava  Samriddhi Srivastava   \n",
       "3            https://indiatoday.in/author/chayan-kundu          Chayan Kundu   \n",
       "4     https://indiatoday.in/author/kamaljit-kaursandhu  Kamaljit Kaur Sandhu   \n",
       "..                                                 ...                   ...   \n",
       "162    https://indiatoday.in/author/roshni-chakrabarty    Roshni Chakrabarty   \n",
       "163            https://indiatoday.in/author/sujeet-jha            Sujeet Jha   \n",
       "164     https://indiatoday.in/author/nayanika-sengupta     Nayanika Sengupta   \n",
       "165        https://indiatoday.in/author/piya-hingorani        Piya Hingorani   \n",
       "166           https://indiatoday.in/author/karan-yadav           Karan Yadav   \n",
       "\n",
       "     influencer_id                   designation  \\\n",
       "0              NaN             Senior Sub-editor   \n",
       "1         100589.0                                 \n",
       "2              NaN             Senior Sub-editor   \n",
       "3           7446.0  Associate Editor- Fact Check   \n",
       "4           7626.0                                 \n",
       "..             ...                           ...   \n",
       "162       100428.0                   Copy Editor   \n",
       "163       113932.0                                 \n",
       "164       100582.0                                 \n",
       "165            NaN                                 \n",
       "166       100582.0                Content writer   \n",
       "\n",
       "                             mail_id  \\\n",
       "0           Tanushree.Roy@aajtak.com   \n",
       "1                    pti@intoday.com   \n",
       "2    Samriddhi.Srivastava@aajtak.com   \n",
       "3            Chayan.Kundu@aajtak.com   \n",
       "4         kamaljit.sandhu@aajtak.com   \n",
       "..                               ...   \n",
       "162         roshni.intoday@gmail.com   \n",
       "163            sujeet.jha@aajtak.com   \n",
       "164     nayanika.sengupta@aajtak.com   \n",
       "165        piya.hingorani@aajtak.com   \n",
       "166           karan.yadav@aajtak.com   \n",
       "\n",
       "                                          twitter_link  \\\n",
       "0                  https://twitter.com/tanushree_roy21   \n",
       "1                         https://twitter.com/PTI_News   \n",
       "2                      https://twitter.com/sam__riddhi   \n",
       "3    https://twitter.com/https://twitter.com/KunduC...   \n",
       "4                   https://twitter.com/kamaljitsandhu   \n",
       "..                                                 ...   \n",
       "162                       https://twitter.com/roshnism   \n",
       "163                         https://twitter.com/sujjha   \n",
       "164  https://twitter.com/https://twitter.com/nayani...   \n",
       "165                  https://twitter.com/PiyaHingorani   \n",
       "166                                                      \n",
       "\n",
       "                                     facebook_link  \\\n",
       "0                                                    \n",
       "1                                                    \n",
       "2                                                    \n",
       "3                                                    \n",
       "4                                                    \n",
       "..                                             ...   \n",
       "162  https://www.facebook.com/lightprincess.roshni   \n",
       "163                                                  \n",
       "164                                                  \n",
       "165                                                  \n",
       "166                                                  \n",
       "\n",
       "                      instagram_link  \\\n",
       "0                                      \n",
       "1                                      \n",
       "2                                      \n",
       "3                                      \n",
       "4                                      \n",
       "..                               ...   \n",
       "162                                    \n",
       "163                                    \n",
       "164  www.instagram.com/nayanika4321/   \n",
       "165                                    \n",
       "166                                    \n",
       "\n",
       "                                            author_bio  \\\n",
       "0    There is nothing called too much coffee, books...   \n",
       "1                                                        \n",
       "2    An ardent fan of the entertainment business, S...   \n",
       "3    Chayan Kundu is a senior journalist with the I...   \n",
       "4    Kamaljit Sandhu is an award winning journalist...   \n",
       "..                                                 ...   \n",
       "162  Roshni loves writing about student innovations...   \n",
       "163  Sujeet Kumar Jha has been working in Aaj Tak s...   \n",
       "164  A Bong living out of Bengal, a home baker turn...   \n",
       "165                                                      \n",
       "166                                                      \n",
       "\n",
       "                                               section  \\\n",
       "0    [Trending News, Lifestyle, Television, Movies,...   \n",
       "1    [Top Stories, World, Lifestyle, Education Toda...   \n",
       "2       [Movies, Television, Lifestyle, Trending News]   \n",
       "3                                         [Fact Check]   \n",
       "4                        [India, Coronavirus Outbreak]   \n",
       "..                                                 ...   \n",
       "162                                  [Education Today]   \n",
       "163                                            [India]   \n",
       "164                             [Coronavirus Outbreak]   \n",
       "165                                           [Movies]   \n",
       "166                                  [Education Today]   \n",
       "\n",
       "                                         section_count  total_articles  \n",
       "0    {'Movies': 2, 'Television': 1, 'Trending News'...               6  \n",
       "1    {'Business': 2, 'Coronavirus Outbreak': 1, 'Cr...              14  \n",
       "2    {'Movies': 2, 'Television': 1, 'Lifestyle': 1,...               5  \n",
       "3                                    {'Fact Check': 2}               2  \n",
       "4              {'India': 2, 'Coronavirus Outbreak': 1}               3  \n",
       "..                                                 ...             ...  \n",
       "162                             {'Education Today': 1}               1  \n",
       "163                                       {'India': 1}               1  \n",
       "164                        {'Coronavirus Outbreak': 1}               1  \n",
       "165                                      {'Movies': 1}               1  \n",
       "166                             {'Education Today': 1}               1  \n",
       "\n",
       "[167 rows x 12 columns]"
      ],
      "text/html": "<div>\n<style scoped>\n    .dataframe tbody tr th:only-of-type {\n        vertical-align: middle;\n    }\n\n    .dataframe tbody tr th {\n        vertical-align: top;\n    }\n\n    .dataframe thead th {\n        text-align: right;\n    }\n</style>\n<table border=\"1\" class=\"dataframe\">\n  <thead>\n    <tr style=\"text-align: right;\">\n      <th></th>\n      <th>author_link</th>\n      <th>influencer_name</th>\n      <th>influencer_id</th>\n      <th>designation</th>\n      <th>mail_id</th>\n      <th>twitter_link</th>\n      <th>facebook_link</th>\n      <th>instagram_link</th>\n      <th>author_bio</th>\n      <th>section</th>\n      <th>section_count</th>\n      <th>total_articles</th>\n    </tr>\n  </thead>\n  <tbody>\n    <tr>\n      <th>0</th>\n      <td>https://indiatoday.in/author/tanushree-roy</td>\n      <td>Tanushree Roy</td>\n      <td>NaN</td>\n      <td>Senior Sub-editor</td>\n      <td>Tanushree.Roy@aajtak.com</td>\n      <td>https://twitter.com/tanushree_roy21</td>\n      <td></td>\n      <td></td>\n      <td>There is nothing called too much coffee, books...</td>\n      <td>[Trending News, Lifestyle, Television, Movies,...</td>\n      <td>{'Movies': 2, 'Television': 1, 'Trending News'...</td>\n      <td>6</td>\n    </tr>\n    <tr>\n      <th>1</th>\n      <td>https://indiatoday.in/author/pti</td>\n      <td>Press Trust of India</td>\n      <td>100589.0</td>\n      <td></td>\n      <td>pti@intoday.com</td>\n      <td>https://twitter.com/PTI_News</td>\n      <td></td>\n      <td></td>\n      <td></td>\n      <td>[Top Stories, World, Lifestyle, Education Toda...</td>\n      <td>{'Business': 2, 'Coronavirus Outbreak': 1, 'Cr...</td>\n      <td>14</td>\n    </tr>\n    <tr>\n      <th>2</th>\n      <td>https://indiatoday.in/author/samriddhi-srivastava</td>\n      <td>Samriddhi Srivastava</td>\n      <td>NaN</td>\n      <td>Senior Sub-editor</td>\n      <td>Samriddhi.Srivastava@aajtak.com</td>\n      <td>https://twitter.com/sam__riddhi</td>\n      <td></td>\n      <td></td>\n      <td>An ardent fan of the entertainment business, S...</td>\n      <td>[Movies, Television, Lifestyle, Trending News]</td>\n      <td>{'Movies': 2, 'Television': 1, 'Lifestyle': 1,...</td>\n      <td>5</td>\n    </tr>\n    <tr>\n      <th>3</th>\n      <td>https://indiatoday.in/author/chayan-kundu</td>\n      <td>Chayan Kundu</td>\n      <td>7446.0</td>\n      <td>Associate Editor- Fact Check</td>\n      <td>Chayan.Kundu@aajtak.com</td>\n      <td>https://twitter.com/https://twitter.com/KunduC...</td>\n      <td></td>\n      <td></td>\n      <td>Chayan Kundu is a senior journalist with the I...</td>\n      <td>[Fact Check]</td>\n      <td>{'Fact Check': 2}</td>\n      <td>2</td>\n    </tr>\n    <tr>\n      <th>4</th>\n      <td>https://indiatoday.in/author/kamaljit-kaursandhu</td>\n      <td>Kamaljit Kaur Sandhu</td>\n      <td>7626.0</td>\n      <td></td>\n      <td>kamaljit.sandhu@aajtak.com</td>\n      <td>https://twitter.com/kamaljitsandhu</td>\n      <td></td>\n      <td></td>\n      <td>Kamaljit Sandhu is an award winning journalist...</td>\n      <td>[India, Coronavirus Outbreak]</td>\n      <td>{'India': 2, 'Coronavirus Outbreak': 1}</td>\n      <td>3</td>\n    </tr>\n    <tr>\n      <th>...</th>\n      <td>...</td>\n      <td>...</td>\n      <td>...</td>\n      <td>...</td>\n      <td>...</td>\n      <td>...</td>\n      <td>...</td>\n      <td>...</td>\n      <td>...</td>\n      <td>...</td>\n      <td>...</td>\n      <td>...</td>\n    </tr>\n    <tr>\n      <th>162</th>\n      <td>https://indiatoday.in/author/roshni-chakrabarty</td>\n      <td>Roshni Chakrabarty</td>\n      <td>100428.0</td>\n      <td>Copy Editor</td>\n      <td>roshni.intoday@gmail.com</td>\n      <td>https://twitter.com/roshnism</td>\n      <td>https://www.facebook.com/lightprincess.roshni</td>\n      <td></td>\n      <td>Roshni loves writing about student innovations...</td>\n      <td>[Education Today]</td>\n      <td>{'Education Today': 1}</td>\n      <td>1</td>\n    </tr>\n    <tr>\n      <th>163</th>\n      <td>https://indiatoday.in/author/sujeet-jha</td>\n      <td>Sujeet Jha</td>\n      <td>113932.0</td>\n      <td></td>\n      <td>sujeet.jha@aajtak.com</td>\n      <td>https://twitter.com/sujjha</td>\n      <td></td>\n      <td></td>\n      <td>Sujeet Kumar Jha has been working in Aaj Tak s...</td>\n      <td>[India]</td>\n      <td>{'India': 1}</td>\n      <td>1</td>\n    </tr>\n    <tr>\n      <th>164</th>\n      <td>https://indiatoday.in/author/nayanika-sengupta</td>\n      <td>Nayanika Sengupta</td>\n      <td>100582.0</td>\n      <td></td>\n      <td>nayanika.sengupta@aajtak.com</td>\n      <td>https://twitter.com/https://twitter.com/nayani...</td>\n      <td></td>\n      <td>www.instagram.com/nayanika4321/</td>\n      <td>A Bong living out of Bengal, a home baker turn...</td>\n      <td>[Coronavirus Outbreak]</td>\n      <td>{'Coronavirus Outbreak': 1}</td>\n      <td>1</td>\n    </tr>\n    <tr>\n      <th>165</th>\n      <td>https://indiatoday.in/author/piya-hingorani</td>\n      <td>Piya Hingorani</td>\n      <td>NaN</td>\n      <td></td>\n      <td>piya.hingorani@aajtak.com</td>\n      <td>https://twitter.com/PiyaHingorani</td>\n      <td></td>\n      <td></td>\n      <td></td>\n      <td>[Movies]</td>\n      <td>{'Movies': 1}</td>\n      <td>1</td>\n    </tr>\n    <tr>\n      <th>166</th>\n      <td>https://indiatoday.in/author/karan-yadav</td>\n      <td>Karan Yadav</td>\n      <td>100582.0</td>\n      <td>Content writer</td>\n      <td>karan.yadav@aajtak.com</td>\n      <td></td>\n      <td></td>\n      <td></td>\n      <td></td>\n      <td>[Education Today]</td>\n      <td>{'Education Today': 1}</td>\n      <td>1</td>\n    </tr>\n  </tbody>\n</table>\n<p>167 rows × 12 columns</p>\n</div>"
     },
     "metadata": {},
     "execution_count": 180
    }
   ],
   "source": [
    "final_df = df_2[df_2['author_link'] != \"\"].reset_index(drop = True)\n",
    "final_df"
   ]
  },
  {
   "cell_type": "code",
   "execution_count": 181,
   "metadata": {},
   "outputs": [],
   "source": [
    "final_df.to_excel(\"indiatoday_journalists.xlsx\", index = False)"
   ]
  },
  {
   "cell_type": "code",
   "execution_count": 89,
   "metadata": {},
   "outputs": [],
   "source": [
    "# "
   ]
  },
  {
   "cell_type": "code",
   "execution_count": null,
   "metadata": {},
   "outputs": [],
   "source": []
  }
 ]
}