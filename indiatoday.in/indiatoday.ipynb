{
 "metadata": {
  "language_info": {
   "codemirror_mode": {
    "name": "ipython",
    "version": 3
   },
   "file_extension": ".py",
   "mimetype": "text/x-python",
   "name": "python",
   "nbconvert_exporter": "python",
   "pygments_lexer": "ipython3",
   "version": "3.9.5"
  },
  "orig_nbformat": 4,
  "kernelspec": {
   "name": "python3",
   "display_name": "Python 3.9.5 64-bit ('crawl-email-address': conda)"
  },
  "interpreter": {
   "hash": "7567aa873c1d6aab2bc4e6e1e9db7e0093a99bed71f801f4a1b99670327b998f"
  }
 },
 "nbformat": 4,
 "nbformat_minor": 2,
 "cells": [
  {
   "cell_type": "code",
   "execution_count": 5,
   "metadata": {},
   "outputs": [],
   "source": [
    "from bs4 import BeautifulSoup\n",
    "import requests\n",
    "import pandas as pd\n",
    "import time\n",
    "from tqdm import tqdm"
   ]
  },
  {
   "source": [
    "### This code will extract all the author details from the url link"
   ],
   "cell_type": "markdown",
   "metadata": {}
  },
  {
   "cell_type": "code",
   "execution_count": 29,
   "metadata": {},
   "outputs": [],
   "source": [
    "from bs4 import BeautifulSoup\n",
    "import requests\n",
    "import pandas as pd\n",
    "import time\n",
    "from tqdm import tqdm\n",
    "\n",
    "all_author_links = []\n",
    "all_author_designation = []\n",
    "all_mail_id = []\n",
    "all_twitter_link = []\n",
    "all_facebook_link = []\n",
    "all_author_bio = []\n",
    "all_section = []\n",
    "all_instagram_link = []\n",
    "all_influencer_name = []\n",
    "all_names = []\n",
    "all_url = []\n",
    "\n",
    "url = [\"https://www.indiatoday.in/india/story/loc-ceasefire-india-pakistan-villages-guns-development-1829334-2021-07-17\", \"https://www.indiatoday.in/world/story/everything-under-water-in-minutes-germany-reels-under-flood-of-death-1829329-2021-07-17\"]\n",
    "\n",
    "for i in url:\n",
    "\n",
    "    time.sleep(0.2)\n",
    "\n",
    "    try:\n",
    "        response = requests.get(i)\n",
    "    except (requests.exceptions.MissingSchema, requests.exceptions.ConnectionError):\n",
    "        continue\n",
    "\n",
    "    soup = BeautifulSoup(response.content, 'lxml')\n",
    "    article = soup.find('article')\n",
    "    try:\n",
    "        a = article.find('div', class_=\"node node-story view-mode-full\")\n",
    "        b = a.find('div', class_=\"story-left-section story-update\")\n",
    "        c = b.find('div', class_=\"story-header-wrapper\")\n",
    "        d = c.find('div', class_=\"byline\")\n",
    "        author_link_1 = d.find('div', class_=\"profile-pic\").a\n",
    "        author_link_2 = \"https://indiatoday.in\" + author_link_1['href']        \n",
    "    except:\n",
    "        print(\"could not crawl\")\n",
    "        continue\n",
    "\n",
    "    all_url.append(i)\n",
    "\n",
    "    section_1 = d.find('div', class_=\"profile-detail\")\n",
    "    section_2 = section_1.find_all('meta')[0]['content']\n",
    "    all_section.append(section_2)\n",
    "\n",
    "    name = section_1.find(\"dl\", class_=\"profile-byline\").span.dt.a['title']\n",
    "    all_names.append(name)\n",
    "\n",
    "    all_author_links.append(author_link_2)\n",
    "\n",
    "    response = requests.get(author_link_2)\n",
    "    soup = BeautifulSoup(response.content, 'lxml')\n",
    "    body = soup.find('body')\n",
    "\n",
    "    e = body.find('div', class_ = \"anchor-left\")\n",
    "    f = e.find('div', class_=\"anchauth-details\")\n",
    "\n",
    "    try:\n",
    "        designation = f.find('div', class_=\"anchauth-designation\").text\n",
    "    except:\n",
    "        designation = \"\"\n",
    "\n",
    "    all_author_designation.append(designation)\n",
    "\n",
    "    try:\n",
    "        email_id = f.find('div', class_ = \"anchauth-email\").text\n",
    "    except:\n",
    "        email_id = \"\"\n",
    "    \n",
    "    all_mail_id.append(email_id)\n",
    "\n",
    "\n",
    "    j = body.find('div', class_ = \"anchor-right\")\n",
    "    # print(j)\n",
    "    k = j.find('div', class_=\"people-social-icon\")\n",
    "    # print(author_link_2)\n",
    "    if k != None:\n",
    "            \n",
    "        for x in k.ul.find_all(\"a\"):\n",
    "            if 'fbicon' in x['class']:\n",
    "                facebook_link = x['href']\n",
    "                break\n",
    "            else:\n",
    "                facebook_link = \"\"\n",
    "        \n",
    "        all_facebook_link.append(facebook_link)\n",
    "\n",
    "        for x in k.ul.find_all(\"a\"):\n",
    "            if 'twicon' in x['class']:\n",
    "                twitter_link = x['href']\n",
    "                break\n",
    "            else:\n",
    "                twitter_link = \"\"\n",
    "\n",
    "        all_twitter_link.append(twitter_link)\n",
    "\n",
    "        for x in k.ul.find_all(\"a\"):\n",
    "            if 'insticon' in x['class']:\n",
    "                instagram_link = x['href']\n",
    "                break\n",
    "            else:\n",
    "                instagram_link = \"\"\n",
    "\n",
    "        all_instagram_link.append(instagram_link)\n",
    "    \n",
    "    else:\n",
    "        all_facebook_link.append(\"\")\n",
    "        all_twitter_link.append(\"\")\n",
    "        all_instagram_link.append(\"\")\n",
    "\n",
    "\n",
    "    author_bio_1 = j.find('div', class_=\"less-content\")\n",
    "    author_bio_2 = author_bio_1.text\n",
    "\n",
    "    all_author_bio.append(author_bio_2)"
   ]
  },
  {
   "cell_type": "code",
   "execution_count": 30,
   "metadata": {},
   "outputs": [],
   "source": [
    "df = pd.DataFrame({'url': all_url, 'author_link' : all_author_links, 'influencer_name': all_names, 'designation' : all_author_designation, 'mail_id' : all_mail_id, 'twitter_link' : all_twitter_link, 'facebook_link' : all_facebook_link, 'instagram_link' : all_instagram_link, 'section' : all_section, 'author_bio' : all_author_bio})"
   ]
  },
  {
   "cell_type": "code",
   "execution_count": 31,
   "metadata": {},
   "outputs": [
    {
     "output_type": "execute_result",
     "data": {
      "text/plain": [
       "                                                 url  \\\n",
       "0  https://www.indiatoday.in/india/story/loc-ceas...   \n",
       "1  https://www.indiatoday.in/world/story/everythi...   \n",
       "\n",
       "                                      author_link       influencer_name  \\\n",
       "0  https://indiatoday.in/author/abhishek-bhalla-1      Abhishek Bhalla    \n",
       "1      https://indiatoday.in/author/indiatoday-in  India Today Web Desk   \n",
       "\n",
       "  designation                     mail_id  \\\n",
       "0      Editor  abhishek.bhalla@aajtak.com   \n",
       "1                   desk-itgd@intoday.com   \n",
       "\n",
       "                          twitter_link  \\\n",
       "0  https://twitter.com/AbhishekBhalla7   \n",
       "1       https://twitter.com/IndiaToday   \n",
       "\n",
       "                                 facebook_link instagram_link section  \\\n",
       "0  https://www.facebook.com/abhishek.bhalla.75                  India   \n",
       "1                                                               World   \n",
       "\n",
       "                                          author_bio  \n",
       "0  Abhishek Bhalla is an Editor with India Today ...  \n",
       "1                                                     "
      ],
      "text/html": "<div>\n<style scoped>\n    .dataframe tbody tr th:only-of-type {\n        vertical-align: middle;\n    }\n\n    .dataframe tbody tr th {\n        vertical-align: top;\n    }\n\n    .dataframe thead th {\n        text-align: right;\n    }\n</style>\n<table border=\"1\" class=\"dataframe\">\n  <thead>\n    <tr style=\"text-align: right;\">\n      <th></th>\n      <th>url</th>\n      <th>author_link</th>\n      <th>influencer_name</th>\n      <th>designation</th>\n      <th>mail_id</th>\n      <th>twitter_link</th>\n      <th>facebook_link</th>\n      <th>instagram_link</th>\n      <th>section</th>\n      <th>author_bio</th>\n    </tr>\n  </thead>\n  <tbody>\n    <tr>\n      <th>0</th>\n      <td>https://www.indiatoday.in/india/story/loc-ceas...</td>\n      <td>https://indiatoday.in/author/abhishek-bhalla-1</td>\n      <td>Abhishek Bhalla</td>\n      <td>Editor</td>\n      <td>abhishek.bhalla@aajtak.com</td>\n      <td>https://twitter.com/AbhishekBhalla7</td>\n      <td>https://www.facebook.com/abhishek.bhalla.75</td>\n      <td></td>\n      <td>India</td>\n      <td>Abhishek Bhalla is an Editor with India Today ...</td>\n    </tr>\n    <tr>\n      <th>1</th>\n      <td>https://www.indiatoday.in/world/story/everythi...</td>\n      <td>https://indiatoday.in/author/indiatoday-in</td>\n      <td>India Today Web Desk</td>\n      <td></td>\n      <td>desk-itgd@intoday.com</td>\n      <td>https://twitter.com/IndiaToday</td>\n      <td></td>\n      <td></td>\n      <td>World</td>\n      <td></td>\n    </tr>\n  </tbody>\n</table>\n</div>"
     },
     "metadata": {},
     "execution_count": 31
    }
   ],
   "source": [
    "df"
   ]
  },
  {
   "cell_type": "code",
   "execution_count": 181,
   "metadata": {},
   "outputs": [],
   "source": [
    "df.to_excel(\"indiatoday_journalists.xlsx\", index = False)"
   ]
  }
 ]
}